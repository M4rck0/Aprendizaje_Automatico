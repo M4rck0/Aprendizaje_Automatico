{
  "nbformat": 4,
  "nbformat_minor": 0,
  "metadata": {
    "colab": {
      "provenance": [],
      "authorship_tag": "ABX9TyMwHidlx2yl6aTAHW1V1OPL",
      "include_colab_link": true
    },
    "kernelspec": {
      "name": "python3",
      "display_name": "Python 3"
    },
    "language_info": {
      "name": "python"
    }
  },
  "cells": [
    {
      "cell_type": "markdown",
      "metadata": {
        "id": "view-in-github",
        "colab_type": "text"
      },
      "source": [
        "<a href=\"https://colab.research.google.com/github/M4rck0/Aprendizaje_Automatico/blob/main/Tarea_1.ipynb\" target=\"_parent\"><img src=\"https://colab.research.google.com/assets/colab-badge.svg\" alt=\"Open In Colab\"/></a>"
      ]
    },
    {
      "cell_type": "code",
      "source": [
        "print(\"Hola Mundo\")"
      ],
      "metadata": {
        "colab": {
          "base_uri": "https://localhost:8080/"
        },
        "id": "5HmjH55y1qrj",
        "outputId": "755b151c-882a-452c-bcf1-4a7c1367f4dd"
      },
      "execution_count": 1,
      "outputs": [
        {
          "output_type": "stream",
          "name": "stdout",
          "text": [
            "Hola Mundo\n"
          ]
        }
      ]
    },
    {
      "cell_type": "code",
      "execution_count": 2,
      "metadata": {
        "colab": {
          "base_uri": "https://localhost:8080/"
        },
        "id": "y7gBgHZf1hba",
        "outputId": "14f904a6-61e0-4bf0-f353-a13d80d72196"
      },
      "outputs": [
        {
          "output_type": "stream",
          "name": "stdout",
          "text": [
            "Suma: 13\n",
            "Resta: 7\n",
            "Multiplicación: 30\n",
            "División: 3.3333333333333335\n",
            "División entera: 3\n",
            "Módulo: 1\n",
            "Potencia: 1000\n"
          ]
        }
      ],
      "source": [
        "a = 10\n",
        "b = 3\n",
        "\n",
        "print(\"Suma:\", a + b)\n",
        "print(\"Resta:\", a - b)\n",
        "print(\"Multiplicación:\", a * b)\n",
        "print(\"División:\", a / b)\n",
        "print(\"Módulo:\", a % b)\n",
        "print(\"Potencia:\", a ** b)"
      ]
    },
    {
      "cell_type": "code",
      "source": [
        "comidas = [\"pizza\", \"tacos\", \"hamburgesa\"]\n",
        "\n",
        "for comida in comidas:\n",
        "    print(comida)"
      ],
      "metadata": {
        "colab": {
          "base_uri": "https://localhost:8080/"
        },
        "id": "jJdKw2HA1_wp",
        "outputId": "4d1a735b-310d-401a-a874-5f875463ee3b"
      },
      "execution_count": 5,
      "outputs": [
        {
          "output_type": "stream",
          "name": "stdout",
          "text": [
            "pizza\n",
            "tacos\n",
            "hamburgesa\n"
          ]
        }
      ]
    },
    {
      "cell_type": "code",
      "source": [
        "def suma(x, y):\n",
        "    return x + y\n",
        "\n",
        "suma_lambda = lambda x, y: x + y\n",
        "\n",
        "print(\"Suma normal:\", suma(5, 3))\n",
        "print(\"Suma lambda:\", suma_lambda(5, 3))\n"
      ],
      "metadata": {
        "colab": {
          "base_uri": "https://localhost:8080/"
        },
        "id": "BoeasW7F2Gbg",
        "outputId": "0a8e3b2f-d9e6-4966-e1ef-3f82d27bff8a"
      },
      "execution_count": 6,
      "outputs": [
        {
          "output_type": "stream",
          "name": "stdout",
          "text": [
            "Suma normal: 8\n",
            "Suma lambda: 8\n"
          ]
        }
      ]
    }
  ]
}